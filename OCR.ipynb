{
  "cells": [
    {
      "cell_type": "code",
      "execution_count": 2,
      "metadata": {
        "colab": {
          "base_uri": "https://localhost:8080/"
        },
        "id": "9rwzJZQZP08F",
        "outputId": "1c367dc4-9027-4600-cbc0-f4d4c4819a0b"
      },
      "outputs": [
        {
          "name": "stdout",
          "output_type": "stream",
          "text": [
            "Mounted at /content/gdrive\n"
          ]
        }
      ],
      "source": [
        "from google.colab import drive\n",
        "drive.mount(\"/content/gdrive\")"
      ]
    },
    {
      "cell_type": "code",
      "execution_count": 3,
      "metadata": {
        "id": "yTc5ZWazQrI6"
      },
      "outputs": [],
      "source": [
        "!unzip -q /content/gdrive/MyDrive/tinkoff/CCPD2019-dl1.zip -d Dataset"
      ]
    },
    {
      "cell_type": "code",
      "execution_count": 4,
      "metadata": {
        "colab": {
          "base_uri": "https://localhost:8080/"
        },
        "id": "BYgeFOqHgU5P",
        "outputId": "17bf0f1f-6605-44b8-c4eb-62b6ad0be216"
      },
      "outputs": [
        {
          "name": "stdout",
          "output_type": "stream",
          "text": [
            "Looking in indexes: https://pypi.org/simple, https://us-python.pkg.dev/colab-wheels/public/simple/\n",
            "Collecting torchmetrics\n",
            "  Downloading torchmetrics-0.11.0-py3-none-any.whl (512 kB)\n",
            "\u001b[K     |████████████████████████████████| 512 kB 15.7 MB/s \n",
            "\u001b[?25hRequirement already satisfied: torch>=1.8.1 in /usr/local/lib/python3.8/dist-packages (from torchmetrics) (1.13.0+cu116)\n",
            "Requirement already satisfied: numpy>=1.17.2 in /usr/local/lib/python3.8/dist-packages (from torchmetrics) (1.21.6)\n",
            "Requirement already satisfied: packaging in /usr/local/lib/python3.8/dist-packages (from torchmetrics) (21.3)\n",
            "Requirement already satisfied: typing-extensions in /usr/local/lib/python3.8/dist-packages (from torchmetrics) (4.4.0)\n",
            "Requirement already satisfied: pyparsing!=3.0.5,>=2.0.2 in /usr/local/lib/python3.8/dist-packages (from packaging->torchmetrics) (3.0.9)\n",
            "Installing collected packages: torchmetrics\n",
            "Successfully installed torchmetrics-0.11.0\n"
          ]
        }
      ],
      "source": [
        "!pip install torchmetrics"
      ]
    },
    {
      "cell_type": "code",
      "execution_count": 5,
      "metadata": {
        "colab": {
          "base_uri": "https://localhost:8080/"
        },
        "id": "Ak-Bja5bQwBh",
        "outputId": "e23c5b6f-5efd-4b64-9025-500ebb54ee42"
      },
      "outputs": [
        {
          "name": "stdout",
          "output_type": "stream",
          "text": [
            "cuda\n"
          ]
        }
      ],
      "source": [
        "import os\n",
        "import torch\n",
        "import copy\n",
        "import random \n",
        "import numpy as np\n",
        "import torch.nn as nn\n",
        "from PIL import Image\n",
        "import torch.nn.functional as F\n",
        "from torchvision import transforms\n",
        "from torch.autograd import Variable\n",
        "from matplotlib import colors, pyplot as plt\n",
        "from torch.utils.data import Dataset, DataLoader\n",
        "\n",
        "device = torch.device('cuda') if torch.cuda.is_available() else torch.device('cpu')\n",
        "print(device)\n"
      ]
    },
    {
      "cell_type": "code",
      "execution_count": 6,
      "metadata": {
        "id": "mxzKmOfy8Vf9"
      },
      "outputs": [],
      "source": [
        "random.seed(42)\n",
        "np.random.seed(42)\n",
        "torch.manual_seed(42)\n",
        "torch.cuda.manual_seed(42)"
      ]
    },
    {
      "cell_type": "markdown",
      "metadata": {
        "id": "PkCgmUZvesv0"
      },
      "source": [
        "#### Подготовка данных для обучения"
      ]
    },
    {
      "cell_type": "code",
      "execution_count": 7,
      "metadata": {
        "id": "ligFihJrFPGg"
      },
      "outputs": [],
      "source": [
        "symbols = []\n",
        "[symbols.extend(img.split('-')[-1].split('.')[0]) for img in os.listdir('/content/Dataset/CCPD2019-dl1/train')]\n",
        "alphabet = set(symbols)"
      ]
    },
    {
      "cell_type": "code",
      "execution_count": 8,
      "metadata": {
        "id": "yXedLwyokLLS"
      },
      "outputs": [],
      "source": [
        "alphabet = list(alphabet)\n",
        "alphabet.sort()"
      ]
    },
    {
      "cell_type": "code",
      "execution_count": 9,
      "metadata": {
        "colab": {
          "base_uri": "https://localhost:8080/"
        },
        "id": "j-zAoNXgkPTj",
        "outputId": "c851ab36-10b7-4cff-fabe-855cd586d0fc"
      },
      "outputs": [
        {
          "name": "stdout",
          "output_type": "stream",
          "text": [
            "['0', '1', '2', '3', '4', '5', '6', '7', '8', '9', 'A', 'B', 'C', 'D', 'E', 'F', 'G', 'H', 'J', 'K', 'L', 'M', 'N', 'O', 'P', 'Q', 'R', 'S', 'T', 'U', 'V', 'W', 'X', 'Y', 'Z', '云', '京', '冀', '吉', '宁', '川', '新', '晋', '桂', '沪', '津', '浙', '渝', '湘', '琼', '甘', '皖', '粤', '苏', '蒙', '藏', '豫', '贵', '赣', '辽', '鄂', '闽', '陕', '青', '鲁', '黑']\n"
          ]
        }
      ],
      "source": [
        "print(alphabet)"
      ]
    },
    {
      "cell_type": "code",
      "execution_count": 10,
      "metadata": {
        "id": "9gcaP2bwfTW7"
      },
      "outputs": [],
      "source": [
        "def character2index(alphabet:list) ->dict:\n",
        "    \"\"\"\n",
        "      convert alphabet to dictionary\n",
        "      alphabet - unique characters list\n",
        "      return (dict) - {character: index}, index 0 reserved for 'blank' in ctc \n",
        "    \"\"\"\n",
        "    words_dict = dict()\n",
        "    for i, item in enumerate(alphabet):\n",
        "        words_dict[item] = i+1\n",
        "    return words_dict\n",
        "\n",
        "def index2character(dictionary:dict) ->dict:\n",
        "    \"\"\"\n",
        "        reverse result for 'character2index' function\n",
        "        dictionary - {character: index}, index 0 reserved for 'blank' in ctc\n",
        "        return (dict) - {index: character}\n",
        "    \"\"\"\n",
        "    return {w:k for k,w in dictionary.items()}"
      ]
    },
    {
      "cell_type": "code",
      "execution_count": 11,
      "metadata": {
        "id": "R93G9_DYjYMT"
      },
      "outputs": [],
      "source": [
        "words2index = character2index(alphabet)\n",
        "index2words = index2character(words2index)"
      ]
    },
    {
      "cell_type": "markdown",
      "metadata": {
        "id": "5a5nZ73KVl8l"
      },
      "source": [
        "На всякий случай убедимся, что длина номеров фиксированная. Это упростит жизнь при использовании CTC"
      ]
    },
    {
      "cell_type": "code",
      "execution_count": 12,
      "metadata": {
        "colab": {
          "base_uri": "https://localhost:8080/"
        },
        "id": "5j63wL0C6rVn",
        "outputId": "81175a8a-87be-4549-bfaa-b0a1f290b3a2"
      },
      "outputs": [
        {
          "name": "stdout",
          "output_type": "stream",
          "text": [
            "{7}\n",
            "{7}\n"
          ]
        }
      ],
      "source": [
        "print(set([len(i.split('-')[-1].split('.')[0]) for i in os.listdir('/content/Dataset/CCPD2019-dl1/train')]))\n",
        "print(set([len(i.split('-')[-1].split('.')[0]) for i in os.listdir('/content/Dataset/CCPD2019-dl1/test')]))"
      ]
    },
    {
      "cell_type": "code",
      "execution_count": 13,
      "metadata": {
        "id": "4xW59DY-8ZNU"
      },
      "outputs": [],
      "source": [
        "H = 32\n",
        "W = 100\n",
        "MEAN = STD = .5\n",
        "class OCRDataset(Dataset):\n",
        "    available_modes = 'test', 'train'\n",
        "    def __init__(self, dir_path:str, mode:str, label_converter):\n",
        "        assert mode in self.available_modes\n",
        "        assert os.path.exists(dir_path) and os.path.isdir(dir_path)\n",
        "        self.dir = dir_path\n",
        "        self.imgs = os.listdir(self.dir)\n",
        "        self.label_converter = label_converter\n",
        "        self.transform = self._transforms(mode)\n",
        "    \n",
        "    @staticmethod\n",
        "    def _transforms(mode:str):\n",
        "        if mode == 'test':\n",
        "            return transforms.Compose([transforms.Resize(size = (H,W)),\n",
        "                                       transforms.ToTensor(),\n",
        "                                       transforms.Normalize(MEAN, STD)])\n",
        "        elif mode == 'train':\n",
        "            return transforms.Compose([transforms.Resize(size = (H,W)),\n",
        "                                       transforms.RandomRotation(degrees=(-5,5)),\n",
        "                                       transforms.GaussianBlur(kernel_size=(5, 5), sigma=(0.1, 1)),\n",
        "                                       transforms.ToTensor(),\n",
        "                                       transforms.Normalize(MEAN, STD)])\n",
        "        else:\n",
        "            raise NotImplemented\n",
        "\n",
        "    def __len__(self, ):\n",
        "        return len(self.imgs)\n",
        "    \n",
        "    @staticmethod\n",
        "    def label2list(img_name:str) -> str:\n",
        "        \"\"\"\n",
        "            extract car number from image name\n",
        "        \"\"\"\n",
        "        return img_name.split('-')[-1].split('.')[0]\n",
        "\n",
        "    def label_processing(self, img_name:str):\n",
        "        \"\"\"\n",
        "            convert img path to label\n",
        "        \"\"\"\n",
        "        char_list = self.label2list(img_name)\n",
        "        out = []\n",
        "        for char in char_list:\n",
        "            idx = self.label_converter[char]\n",
        "            out.append(idx)\n",
        "        return out\n",
        "\n",
        "    def __getitem__(self, index) -> tuple:\n",
        "        img_name = self.imgs[index]\n",
        "        label = self.label_processing(img_name)\n",
        "        #convert RGB 2 grey img\n",
        "        img = Image.open(os.path.join(self.dir, img_name)).convert('L')\n",
        "        img = self.transform(img)\n",
        "        return img, label"
      ]
    },
    {
      "cell_type": "code",
      "execution_count": 14,
      "metadata": {
        "id": "B3UasLjBKzkv"
      },
      "outputs": [],
      "source": [
        "train_dataset = OCRDataset('/content/Dataset/CCPD2019-dl1/train', 'train', label_converter=words2index)\n",
        "test_dataset = OCRDataset('/content/Dataset/CCPD2019-dl1/test', 'test', label_converter=words2index)"
      ]
    },
    {
      "cell_type": "markdown",
      "metadata": {
        "id": "vnXVh2CdvzaV"
      },
      "source": [
        "Посмотрим на датасет"
      ]
    },
    {
      "cell_type": "code",
      "execution_count": 15,
      "metadata": {
        "colab": {
          "base_uri": "https://localhost:8080/",
          "height": 85
        },
        "id": "LtJ_9y4xLS-V",
        "outputId": "a2307e42-b67f-4ef0-ad88-ef8f0daa1455"
      },
      "outputs": [
        {
          "name": "stdout",
          "output_type": "stream",
          "text": [
            "WORD2INDEX OUT  [52, 11, 19, 10, 12, 3, 7]\n",
            "INDEX2WORD OUT  ['皖', 'A', 'J', '9', 'B', '2', '6']\n"
          ]
        },
        {
          "data": {
            "image/png": "[encoded data removed]",
            "text/plain": [
              "<PIL.Image.Image image mode=L size=100x32 at 0x7F0596C6A970>"
            ]
          },
          "execution_count": 15,
          "metadata": {},
          "output_type": "execute_result"
        }
      ],
      "source": [
        "data = train_dataset[2]\n",
        "origianl_sentence = [index2words[i] for i in data[1]]\n",
        "print('WORD2INDEX OUT ', data[1])\n",
        "print('INDEX2WORD OUT ', origianl_sentence)\n",
        "img = data[0] * STD + MEAN\n",
        "inverse_transform = transforms.ToPILImage('L')\n",
        "pil_img = inverse_transform(img)\n",
        "pil_img"
      ]
    },
    {
      "cell_type": "code",
      "execution_count": 16,
      "metadata": {
        "id": "G63_PhJYwVJM"
      },
      "outputs": [],
      "source": [
        "#from torch.nn.utils.rnn import pad_sequence\n",
        "def collate_fn(batch):\n",
        "    imgs, labels = [], []\n",
        "    for image, label in batch:\n",
        "        imgs.append(image)\n",
        "        labels.append(label)\n",
        "    imgs = torch.stack(imgs, 0)\n",
        "    labels = torch.as_tensor(labels, dtype=torch.long)\n",
        "    return imgs, labels"
      ]
    },
    {
      "cell_type": "code",
      "execution_count": 17,
      "metadata": {
        "id": "E00pZRD07BZp"
      },
      "outputs": [],
      "source": [
        "BS = 16\n",
        "test_dataloader = DataLoader(test_dataset, batch_size=BS, shuffle=False, collate_fn = collate_fn)\n",
        "train_dataloader = DataLoader(train_dataset, batch_size=BS, shuffle=True, collate_fn = collate_fn)\n"
      ]
    },
    {
      "attachments": {},
      "cell_type": "markdown",
      "metadata": {
        "id": "FSydkdDRz_GM"
      },
      "source": [
        "#### Модель\n",
        "Создадим модель на основе предложенного подхода из [статьи](https://arxiv.org/pdf/1507.05717.pdf): \n",
        "\n",
        "1.   Выделение фич из изображения - CNN\n",
        "2.   Выделение лэйблов - Biderectional LSTM\n",
        "3.   Транскрипт - Biderectional LSTM\n",
        "\n",
        "##### P.S. добавление в BaseBlock residual connection слоя связано с тем, что при обучении оригинальной [модели](https://github.com/meijieru/crnn.pytorch) мне не удалось добиться точности выше 90%."
      ]
    },
    {
      "cell_type": "code",
      "execution_count": 18,
      "metadata": {
        "colab": {
          "base_uri": "https://localhost:8080/"
        },
        "id": "ka1CnZf50Jws",
        "outputId": "53d1dd5f-dac7-45e9-b5d2-95905d6991c2"
      },
      "outputs": [
        {
          "data": {
            "text/plain": [
              "torch.Size([1, 24, 10])"
            ]
          },
          "execution_count": 18,
          "metadata": {},
          "output_type": "execute_result"
        }
      ],
      "source": [
        "class RNN(nn.Module):\n",
        "    def __init__(self, n_classes, lstm_in = 512, hidden_dim = 512,\n",
        "                 bidirectional = None):\n",
        "        super().__init__()\n",
        "        self.cell = nn.LSTM(input_size = lstm_in, hidden_size = hidden_dim,\n",
        "                            batch_first = True, bidirectional=bidirectional)\n",
        "        if bidirectional:\n",
        "            hidden_dim = 2 * hidden_dim\n",
        "        self.emb = nn.Linear(hidden_dim, n_classes)\n",
        "\n",
        "    def forward(self, x):\n",
        "        output, _ = self.cell(x)\n",
        "        output = self.emb(output)\n",
        "        return output\n",
        "\n",
        "class BaseBlock(nn.Module):\n",
        "    def __init__(self,  in_channels, out_channels, kernel_size, stride, padding):\n",
        "        super().__init__()\n",
        "        self.conv_block1 = nn.Sequential(nn.Conv2d(in_channels, in_channels, \n",
        "                                        3, 1, 1, bias = False),\n",
        "                                    nn.BatchNorm2d(in_channels),\n",
        "                                    nn.ReLU())\n",
        "\n",
        "        self.conv_block2 = nn.Sequential(\n",
        "                                    nn.Conv2d(in_channels, out_channels, \n",
        "                                        kernel_size, stride, padding, bias=False),\n",
        "                                    nn.BatchNorm2d(out_channels),\n",
        "                                    nn.ReLU())\n",
        "        \n",
        "    def forward(self, x):\n",
        "        out = x + self.conv_block1(x)\n",
        "        out = self.conv_block2(out)\n",
        "        return out\n",
        "\n",
        "class CNN(nn.Module):\n",
        "    def __init__(self, in_channels = 1, out_channels = 512):\n",
        "        super().__init__()\n",
        "        self.conv0 = nn.Sequential(\n",
        "              nn.Conv2d(in_channels, 64, kernel_size = 5, stride = 2, padding = 1, bias = False),\n",
        "              nn.BatchNorm2d(64), nn.ReLU())\n",
        "        self.conv1 = BaseBlock(64, 128, 3, 1, 1)\n",
        "        self.conv2 = BaseBlock(128, 256, 3, 2, 1)\n",
        "        self.conv3 = BaseBlock(256, 256, (3,2), (1,1), 1)\n",
        "        self.conv4 = BaseBlock(256, 512, (3,3), (2,1), 1)\n",
        "        self.conv5 = BaseBlock(512, 512, (3,3), (2,1), 0)\n",
        "\n",
        "    def forward(self, x):\n",
        "        x = self.conv0(x)\n",
        "        x = self.conv1(x)\n",
        "        x = self.conv2(x)\n",
        "        x = self.conv3(x)\n",
        "        x = self.conv4(x)\n",
        "        x = self.conv5(x)\n",
        "        return x  # bs, 512, 1, 24\n",
        "\n",
        "class CRNN(nn.Module):\n",
        "    def __init__(self,n_classes, cnn_in_ch = 1, cnn_out_ch = 512, biderectional = True):\n",
        "        super().__init__()\n",
        "        self.cnn = CNN(cnn_in_ch, cnn_out_ch)\n",
        "        self.seq_lab_model = RNN(cnn_out_ch, cnn_out_ch, cnn_out_ch, biderectional)\n",
        "        self.transcription = RNN(n_classes, cnn_out_ch, cnn_out_ch, biderectional)\n",
        "\n",
        "    def forward(self, x):\n",
        "        features = self.cnn(x)            #bs, 1, 32, 100  -> bs, 512, 1, 24\n",
        "        features = features.squeeze(2)    #bs, 512, 24\n",
        "        features = features.permute(0,2,1)#bs, 24, 512\n",
        "        seq_labels = self.seq_lab_model(features)\n",
        "        transcript = self.transcription(seq_labels)\n",
        "        return transcript                 #bs, T, cls\n",
        "\n",
        "x = torch.randn(1, 1, 32, 100)\n",
        "model = CRNN(10, 1, 512, True)\n",
        "model(x).shape"
      ]
    },
    {
      "cell_type": "code",
      "execution_count": 19,
      "metadata": {
        "id": "gsVQLs1r1B7E"
      },
      "outputs": [],
      "source": [
        "LR = 4e-4\n",
        "EPOCH = 10\n",
        "STEP = 2\n",
        "GAMMA = 0.5\n",
        "LABELS_LEN = 7                  #длина номера (см выше)\n",
        "CLIP_GRAD = 10                  #пофиксить взрыв градиента\n",
        "n_classes = len([*words2index])\n",
        "crnn = CRNN(n_classes)\n",
        "optimizer = torch.optim.Adam(crnn.parameters(), lr=LR)\n",
        "scheduler = torch.optim.lr_scheduler.StepLR(optimizer, step_size=STEP, gamma=GAMMA)\n",
        "loss_fn = torch.nn.CTCLoss()\n"
      ]
    },
    {
      "cell_type": "markdown",
      "metadata": {
        "id": "v-PTII7QOos9"
      },
      "source": [
        "#### Метрики\n",
        "Возьмем готовую реализацию [CER](https://torchmetrics.readthedocs.io/en/stable/text/char_error_rate.html)"
      ]
    },
    {
      "cell_type": "code",
      "execution_count": 20,
      "metadata": {
        "id": "9MGCK4bEAQmj"
      },
      "outputs": [],
      "source": [
        "from torchmetrics import CharErrorRate\n",
        "CER = CharErrorRate()\n",
        "def decode(predict, blank_idx = 0, early_stop = None) ->list:\n",
        "    \"\"\"\n",
        "        decode single predict from batch\n",
        "        predict - single model predict (batch[idx])\n",
        "        blank_idx - ctc 'blank' index\n",
        "        early_stop (None or int) - use this param for fix result after decode predict\n",
        "\n",
        "        return (list) - characters in label\n",
        "    \"\"\"\n",
        "    char_list = []\n",
        "    prev = None\n",
        "    for idx in predict:\n",
        "        if idx == blank_idx or prev == idx:\n",
        "            prev = None\n",
        "            continue\n",
        "        char_list.append(idx)\n",
        "        prev = idx\n",
        "  \n",
        "    if isinstance(early_stop, int) and early_stop < len(char_list):\n",
        "        char_list = char_list[:early_stop]\n",
        "    return char_list\n",
        "\n",
        "def batch_decoder(predict:torch.Tensor, blank_idx:int = 0, early_stop = None) ->list:\n",
        "    \"\"\"\n",
        "      decode model predicts\n",
        "      predict - model predict \n",
        "      blank_idx - ctc 'blank' index\n",
        "      early_stop (None or int) - use this param for fix result after decode predict\n",
        "\n",
        "      return (list) - decoded model predicts\n",
        "    \"\"\"\n",
        "    ans = []\n",
        "    if isinstance(predict, torch.Tensor):\n",
        "        predict = predict.tolist()\n",
        "    for item in predict:\n",
        "        single_pred = ans.append(decode(item, blank_idx, early_stop))\n",
        "    return ans\n",
        "\n",
        "def accuracy_plus_cer(pred_list:list, gt_list:list):\n",
        "    \"\"\"\n",
        "      calculate accuracy and cer metrics\n",
        "      pred_list - model predict in list\n",
        "      gt_list - ground truth \n",
        "\n",
        "      return (tuple) - cer, acc \n",
        "    \"\"\"\n",
        "    assert len(pred_list) == len(gt_list)\n",
        "    b_accuracy = 0\n",
        "    b_cer = CER(pred_list, gt_list)\n",
        "    for pred, gt in zip(pred_list, gt_list):\n",
        "        b_accuracy += pred==gt\n",
        "    return b_cer.item(), b_accuracy"
      ]
    },
    {
      "cell_type": "code",
      "execution_count": 21,
      "metadata": {
        "id": "KUPTxJSaLwQF"
      },
      "outputs": [],
      "source": [
        "model_out = [53, 12, 12, 0, 0, 0, 0, 4, 0, 0, 4, 4, 0, 0, 34, 0, 0, 9, 0, 0, 0, 0, 0, 0, 0, 4]\n",
        "gt = [53, 12, 4, 4, 34, 9, 4]\n",
        "assert decode(model_out) == gt"
      ]
    },
    {
      "cell_type": "markdown",
      "metadata": {
        "id": "y6UOU8N_RhAM"
      },
      "source": [
        "#### Обучение"
      ]
    },
    {
      "cell_type": "code",
      "execution_count": 22,
      "metadata": {
        "id": "rN61mvpo07vN"
      },
      "outputs": [],
      "source": [
        "def train_epoch(model, train_loader, optimizer, loss_fn, device, log_period = 1000):\n",
        "    model.train()\n",
        "    model = model.to(device)\n",
        "    losses, n_elem = 0, 0\n",
        "    for idx, (images, labels) in enumerate(train_loader):\n",
        "        images = images.to(device)\n",
        "        optimizer.zero_grad()\n",
        "        logits = model(images)\n",
        "        #prepare before ctc loss\n",
        "        logits = logits.transpose(0,1)\n",
        "        T, B, C = logits.shape\n",
        "        n_elem += B\n",
        "        preds_size = Variable(torch.IntTensor([T] * B))\n",
        "        length = torch.full(size=(B,), fill_value=LABELS_LEN, dtype=torch.long)\n",
        "        loss = loss_fn(logits, labels, preds_size, length)\n",
        "        loss.backward()\n",
        "        torch.nn.utils.clip_grad_norm_(model.parameters(), CLIP_GRAD)\n",
        "        optimizer.step()\n",
        "        losses += loss.item()\n",
        "        if (idx + 1) % log_period == 0:\n",
        "            print('iter: {} loss = {:3.5f}'.format(idx+1, losses / n_elem))\n",
        "    return losses / n_elem\n",
        "\n",
        "def test_epoch(model, test_loader, loss_fn, device, log_period, fix_length = None):\n",
        "    model.eval()\n",
        "    model = model.to(device)\n",
        "    cer, acc, losses, n_elem = 0, 0, 0, 0\n",
        "    for idx, (images, labels) in enumerate(test_loader):\n",
        "        images = images.to(device)\n",
        "        with torch.no_grad():\n",
        "            logits = model(images)\n",
        "        logits = logits.transpose(0,1)\n",
        "        T, B, C = logits.shape\n",
        "        n_elem += B\n",
        "        preds_size = Variable(torch.IntTensor([T] * B))\n",
        "        length = torch.full(size=(B,), fill_value=LABELS_LEN, dtype=torch.long)\n",
        "        loss = loss_fn(logits, labels, preds_size, length)\n",
        "        losses += loss.item()\n",
        "        predict = torch.argmax(logits, 2).transpose(0,1)\n",
        "        pred_list = batch_decoder(predict, early_stop=fix_length)\n",
        "        bcer, bacc = accuracy_plus_cer(pred_list, labels.tolist())\n",
        "        cer += bcer\n",
        "        acc += bacc\n",
        "        if (idx + 1) % log_period == 0:\n",
        "            print('iter: {} CTC {:5.3f} ACC {:3.2f} CER {:3.2f}'.format(\n",
        "                idx+1, losses / n_elem, acc/n_elem, cer/n_elem))\n",
        "    return acc/n_elem, cer/n_elem, losses/n_elem\n",
        "\n",
        "def fit(model, train_dataloader, test_dataloader, \n",
        "        optimizer, loss_fn, scheduler = None, \n",
        "        device = device, log_period = 1000, epoch = 5, stop = 2, \n",
        "        save_path = '/content/gdrive/MyDrive/tinkoff/'):\n",
        "    unchanged_iter = 0\n",
        "    best_acc = -1\n",
        "    for epoch in range(epoch):\n",
        "        train_loss = train_epoch(model, train_dataloader, optimizer, loss_fn, device, log_period)\n",
        "        acc, cer, val_loss = test_epoch(model, test_dataloader,loss_fn, device, log_period)\n",
        "        if scheduler is not None:\n",
        "            scheduler.step()\n",
        "        if acc > best_acc:\n",
        "            unchanged_iter = 0\n",
        "            best_acc = acc\n",
        "            torch.save(model.state_dict(), os.path.join(save_path, 'best.pt'))\n",
        "        else:\n",
        "            print('test loss doesnt change or got bigger')\n",
        "            unchanged_iter += 1\n",
        "            if unchanged_iter == stop:\n",
        "                print(f'loss does not change {stop} epoch, stop training')\n",
        "                break      \n",
        "        print('Epoch {} train CTC: {:5.3f} val CTC: {:5.3f} CER: {:6.4f} Accuracy: {:6.4f}'.format(\n",
        "            epoch+1, train_loss, val_loss, cer, acc))\n",
        "\n"
      ]
    },
    {
      "cell_type": "code",
      "execution_count": 23,
      "metadata": {
        "colab": {
          "base_uri": "https://localhost:8080/"
        },
        "id": "rAJ8Y3ld3Y_8",
        "outputId": "5c31eeef-f3b8-4060-9b2d-61315ce0b181"
      },
      "outputs": [
        {
          "name": "stdout",
          "output_type": "stream",
          "text": [
            "iter: 2000 loss = 0.08540\n",
            "iter: 4000 loss = 0.04499\n",
            "iter: 6000 loss = 0.03083\n",
            "iter: 8000 loss = 0.02359\n",
            "iter: 10000 loss = 0.01918\n",
            "iter: 12000 loss = 0.01620\n",
            "Epoch 1 train CTC: 0.016 val CTC: 0.004 CER: 0.0003 Accuracy: 0.9686\n",
            "iter: 2000 loss = 0.00105\n",
            "iter: 4000 loss = 0.00103\n",
            "iter: 6000 loss = 0.00096\n",
            "iter: 8000 loss = 0.00094\n",
            "iter: 10000 loss = 0.00090\n",
            "iter: 12000 loss = 0.00087\n",
            "Epoch 2 train CTC: 0.001 val CTC: 0.002 CER: 0.0003 Accuracy: 0.9731\n",
            "iter: 2000 loss = 0.00039\n",
            "iter: 4000 loss = 0.00038\n",
            "iter: 6000 loss = 0.00036\n",
            "iter: 8000 loss = 0.00034\n",
            "iter: 10000 loss = 0.00034\n",
            "iter: 12000 loss = 0.00033\n",
            "Epoch 3 train CTC: 0.000 val CTC: 0.001 CER: 0.0002 Accuracy: 0.9794\n",
            "iter: 2000 loss = 0.00027\n",
            "iter: 4000 loss = 0.00028\n",
            "iter: 6000 loss = 0.00027\n",
            "iter: 8000 loss = 0.00028\n",
            "iter: 10000 loss = 0.00027\n",
            "iter: 12000 loss = 0.00028\n",
            "test loss doesnt change or got bigger\n",
            "Epoch 4 train CTC: 0.000 val CTC: 0.000 CER: 0.0003 Accuracy: 0.9660\n",
            "iter: 2000 loss = 0.00025\n",
            "iter: 4000 loss = 0.00022\n",
            "iter: 6000 loss = 0.00021\n",
            "iter: 8000 loss = 0.00020\n",
            "iter: 10000 loss = 0.00021\n",
            "iter: 12000 loss = 0.00022\n",
            "Epoch 5 train CTC: 0.000 val CTC: 0.001 CER: 0.0002 Accuracy: 0.9817\n",
            "iter: 2000 loss = 0.00017\n",
            "iter: 4000 loss = 0.00018\n",
            "iter: 6000 loss = 0.00019\n",
            "iter: 8000 loss = 0.00018\n",
            "iter: 10000 loss = 0.00017\n",
            "iter: 12000 loss = 0.00017\n",
            "Epoch 6 train CTC: 0.000 val CTC: 0.001 CER: 0.0001 Accuracy: 0.9859\n",
            "iter: 2000 loss = 0.00009\n",
            "iter: 4000 loss = 0.00009\n",
            "iter: 6000 loss = 0.00009\n",
            "iter: 8000 loss = 0.00009\n",
            "iter: 10000 loss = 0.00009\n",
            "iter: 12000 loss = 0.00009\n",
            "Epoch 7 train CTC: 0.000 val CTC: 0.001 CER: 0.0001 Accuracy: 0.9863\n",
            "iter: 2000 loss = 0.00008\n",
            "iter: 4000 loss = 0.00008\n",
            "iter: 6000 loss = 0.00008\n",
            "iter: 8000 loss = 0.00008\n",
            "iter: 10000 loss = 0.00008\n",
            "iter: 12000 loss = 0.00008\n",
            "Epoch 8 train CTC: 0.000 val CTC: 0.000 CER: 0.0001 Accuracy: 0.9868\n",
            "iter: 2000 loss = 0.00005\n",
            "iter: 4000 loss = 0.00005\n",
            "iter: 6000 loss = 0.00006\n",
            "iter: 8000 loss = 0.00006\n",
            "iter: 10000 loss = 0.00006\n",
            "iter: 12000 loss = 0.00006\n",
            "Epoch 9 train CTC: 0.000 val CTC: 0.001 CER: 0.0001 Accuracy: 0.9888\n",
            "iter: 2000 loss = 0.00005\n",
            "iter: 4000 loss = 0.00005\n",
            "iter: 6000 loss = 0.00005\n",
            "iter: 8000 loss = 0.00005\n",
            "iter: 10000 loss = 0.00005\n",
            "iter: 12000 loss = 0.00005\n",
            "Epoch 10 train CTC: 0.000 val CTC: 0.001 CER: 0.0001 Accuracy: 0.9893\n"
          ]
        }
      ],
      "source": [
        "fit(crnn, train_dataloader, test_dataloader, optimizer, loss_fn, scheduler, \n",
        "    device, 2000, EPOCH, 2)"
      ]
    },
    {
      "cell_type": "code",
      "execution_count": 24,
      "metadata": {
        "id": "k2tFt5A30KGf"
      },
      "outputs": [],
      "source": [
        "model = crnn.load_state_dict(torch.load('/content/gdrive/MyDrive/tinkoff/best.pt', 'cpu'))"
      ]
    },
    {
      "cell_type": "code",
      "execution_count": 25,
      "metadata": {
        "colab": {
          "base_uri": "https://localhost:8080/"
        },
        "id": "iEX5ykRU8Om0",
        "outputId": "b4f9a6d7-7ae5-46a1-b0ab-11189e54c906"
      },
      "outputs": [
        {
          "name": "stdout",
          "output_type": "stream",
          "text": [
            "test acc 98.930%, test cer 0.011%\n"
          ]
        }
      ],
      "source": [
        "acc, cer, val_loss = test_epoch(crnn, test_dataloader,loss_fn, device, 1000)\n",
        "print('test acc {:5.3f}%, test cer {:5.3f}%'.format(acc * 100, cer * 100))"
      ]
    },
    {
      "cell_type": "code",
      "execution_count": 26,
      "metadata": {
        "colab": {
          "base_uri": "https://localhost:8080/"
        },
        "id": "B6YDQytXDl1Z",
        "outputId": "20399c27-1c55-4bfd-9c5c-87984b22d754"
      },
      "outputs": [
        {
          "name": "stdout",
          "output_type": "stream",
          "text": [
            "wrong model answer!\n",
            "predict: [52, 11, 11, 10, 2, 6, 13] gt: [52, 11, 19, 10, 2, 6, 13]\n",
            "wrong model answer!\n",
            "predict: [52, 11, 15, 2, 4, 1, 14] gt: [52, 11, 21, 2, 4, 1, 14]\n",
            "wrong model answer!\n",
            "predict: [38, 11, 20, 6, 6, 7, 22] gt: [66, 11, 20, 6, 6, 7, 22]\n",
            "wrong model answer!\n",
            "predict: [52, 11, 10, 9, 7, 35, 7] gt: [52, 11, 10, 9, 7, 8, 7]\n",
            "wrong model answer!\n",
            "predict: [52, 11, 25, 10, 1, 2, 8] gt: [52, 11, 25, 10, 1, 2, 29]\n",
            "wrong model answer!\n",
            "predict: [54, 13, 19, 1, 12, 2, 3] gt: [47, 13, 19, 1, 12, 2, 3]\n",
            "wrong model answer!\n",
            "predict: [52, 11, 23, 7, 3, 6, 6] gt: [42, 11, 23, 7, 3, 6, 6]\n",
            "wrong model answer!\n",
            "predict: [61, 13, 19, 1, 1, 1, 2] gt: [62, 13, 19, 1, 1, 1, 2]\n",
            "wrong model answer!\n",
            "predict: [52, 11, 29, 6, 4, 22, 9] gt: [52, 11, 2, 6, 4, 22, 9]\n",
            "wrong model answer!\n",
            "predict: [52, 11, 33, 7, 34, 3, 26] gt: [52, 11, 33, 7, 34, 3, 1]\n",
            "wrong model answer!\n",
            "predict: [52, 12, 15, 8, 7, 8, 32] gt: [54, 12, 15, 8, 7, 8, 32]\n",
            "wrong model answer!\n",
            "predict: [52, 11, 20, 4, 7, 10, 22] gt: [52, 11, 20, 4, 7, 10, 18]\n",
            "wrong model answer!\n",
            "predict: [52, 11, 14, 7, 9, 9, 22] gt: [52, 11, 14, 7, 9, 9, 18]\n",
            "wrong model answer!\n",
            "predict: [52, 11, 1, 1, 29, 9, 10] gt: [52, 11, 14, 1, 29, 9, 10]\n",
            "wrong model answer!\n",
            "predict: [52, 11, 6, 3, 3, 27, 26] gt: [52, 11, 6, 3, 3, 27, 1]\n"
          ]
        }
      ],
      "source": [
        "def bad_cases(model,\n",
        "              target_value:float = 0,\n",
        "              metric_name:str = 'acc',\n",
        "              max_examples = 100, verbose = True):\n",
        "    model.eval()\n",
        "    model.to('cpu')\n",
        "    boundary_cases_list = []\n",
        "    for i in range(max_examples):\n",
        "        wrong = False\n",
        "        image, label = test_dataset[i]\n",
        "        tensor = image.unsqueeze(0)\n",
        "        with torch.no_grad():\n",
        "            pred = model(tensor)\n",
        "        pred_idxs = torch.argmax(pred, 2).tolist()\n",
        "        pred_idxs = decode(pred_idxs[0])\n",
        "        cer, acc = accuracy_plus_cer([pred_idxs], [label])\n",
        "        if metric_name == 'cer':\n",
        "            if cer < target_value:\n",
        "                wrong = True\n",
        "                boundary_cases_list.append([image, label, pred_idxs])\n",
        "        elif metric_name == 'acc':\n",
        "            if not acc:\n",
        "                wrong = True\n",
        "                boundary_cases_list.append([image, label, pred_idxs])\n",
        "        else:\n",
        "            raise NotImplementedError()\n",
        "        if verbose and wrong:\n",
        "            print('wrong model answer!\\npredict: {} gt: {}'.format(\n",
        "                pred_idxs, label))\n",
        "\n",
        "    return boundary_cases_list\n",
        "\n",
        "bad_cases_list = bad_cases(crnn, max_examples = 1000)"
      ]
    },
    {
      "cell_type": "markdown",
      "metadata": {
        "id": "vuM9oE_atTb_"
      },
      "source": [
        "Посмотрим на несколько ошибок подробнее"
      ]
    },
    {
      "cell_type": "code",
      "execution_count": 29,
      "metadata": {
        "colab": {
          "base_uri": "https://localhost:8080/"
        },
        "id": "SV6z5SwXs5xW",
        "outputId": "2aa876d1-8617-43db-c840-e802e815b688"
      },
      "outputs": [
        {
          "name": "stdout",
          "output_type": "stream",
          "text": [
            "9->J\n",
            "Y->T\n",
            "D->0\n",
            "C->0\n",
            "Z->7\n",
            "9->S\n",
            "Q->0\n"
          ]
        }
      ],
      "source": [
        "print(index2words[10] + '->' + index2words[19])\n",
        "print(index2words[34] + '->' + index2words[29])\n",
        "print(index2words[14] + '->' + index2words[1])\n",
        "print(index2words[13] + '->' + index2words[1])\n",
        "print(index2words[35] + '->' + index2words[8])\n",
        "print(index2words[10] + '->' + index2words[28])\n",
        "print(index2words[26] + '->' + index2words[1])"
      ]
    },
    {
      "cell_type": "code",
      "execution_count": 30,
      "metadata": {
        "colab": {
          "base_uri": "https://localhost:8080/",
          "height": 396
        },
        "id": "KOId_sgqmrB2",
        "outputId": "65b85e50-1960-440b-f10c-2960e4ca4e8f"
      },
      "outputs": [
        {
          "data": {
            "image/png": "[encoded data removed]",
            "text/plain": [
              "<Figure size 576x576 with 9 Axes>"
            ]
          },
          "metadata": {
            "needs_background": "light"
          },
          "output_type": "display_data"
        }
      ],
      "source": [
        "import warnings\n",
        "warnings.filterwarnings(\"ignore\")\n",
        "MAX_EXAMPLES = 9\n",
        "def show_wrong_ans(bad_cases_list:list, converter:dict):\n",
        "    fig = plt.figure(figsize=(8,8))\n",
        "    for i in range(min(len(bad_cases_list), MAX_EXAMPLES)):\n",
        "        a = fig.add_subplot(3, 3, i + 1)\n",
        "        plt.axis('off')\n",
        "        img, gt, predict = bad_cases_list[i]\n",
        "        img = img * STD + MEAN\n",
        "        img = inverse_transform(img)\n",
        "        gt_str = ''.join([converter[idx] for idx in gt]) \n",
        "        pred_str = ''.join([converter[idx] for idx in predict])\n",
        "        label = gt_str +'->'+ pred_str\n",
        "        plt.title(label)\n",
        "        plt.imshow(img, cmap='gray')\n",
        "    plt.show()\n",
        "show_wrong_ans(bad_cases_list, index2words)"
      ]
    },
    {
      "cell_type": "markdown",
      "metadata": {
        "id": "AheZch_O1qw-"
      },
      "source": [
        "Предложенный baseline работает достаточно хорошо, как можно видеть ошибки модели связаны в первую очередь с низким качеством изображения (в случаях, когда пропущен символ). Второй тип ошибок - похоже символы, например D, O, 0 или 7 и Z. Этот тип ошибок можно исправить, если использовать более глубокую сверточную сеть, для лучшего выделения фич из изображения номера. Третий тип ошибок - неправильное определение первого символа (иероглифа). Возможно в датасете есть дисбаланс:\n",
        " \n"
      ]
    },
    {
      "cell_type": "code",
      "execution_count": 31,
      "metadata": {
        "id": "QtWgXrKLrPhE"
      },
      "outputs": [],
      "source": [
        "hieroglifs = dict()\n",
        "for image_name in os.listdir('/content/Dataset/CCPD2019-dl1/train/'):\n",
        "    hieroglif = image_name.split('-')[-1][0]\n",
        "    if hieroglifs.get(hieroglif) is None:\n",
        "        hieroglifs[hieroglif] = 1\n",
        "    else:\n",
        "        hieroglifs[hieroglif] +=1"
      ]
    },
    {
      "cell_type": "code",
      "execution_count": 32,
      "metadata": {
        "id": "4g6aVUsATPEt"
      },
      "outputs": [],
      "source": [
        "values = list(hieroglifs.values())"
      ]
    },
    {
      "cell_type": "markdown",
      "metadata": {
        "id": "t4JKPglpMqwF"
      },
      "source": [
        "Возможно гистограмма не совсем понятна. На ней показан дисбаланс представленных классов, в нашем случае, иероглифов. Один иероглиф представлен более 175000 раз, в то время как оставшиеся пресдставлены в менее чем 5000 изображениях. Это одна из причин почему модель ошибается в классификации иероглифа."
      ]
    },
    {
      "cell_type": "code",
      "execution_count": 33,
      "metadata": {
        "colab": {
          "base_uri": "https://localhost:8080/",
          "height": 265
        },
        "id": "Gi6IUFDmPPUC",
        "outputId": "435b0dcc-1fa5-4198-b96e-0d447a0d4ab2"
      },
      "outputs": [
        {
          "data": {
            "image/png": "[encoded data removed]",
            "text/plain": [
              "<Figure size 432x288 with 1 Axes>"
            ]
          },
          "metadata": {
            "needs_background": "light"
          },
          "output_type": "display_data"
        }
      ],
      "source": [
        "n, bin, patches = plt.hist(values, bins = 10)\n",
        "plt.show()"
      ]
    },
    {
      "cell_type": "code",
      "execution_count": 34,
      "metadata": {
        "colab": {
          "base_uri": "https://localhost:8080/"
        },
        "id": "Vc2R8yZVPTlC",
        "outputId": "4739e42f-e2f3-4f35-84a7-5c4b327fdc0b"
      },
      "outputs": [
        {
          "data": {
            "text/plain": [
              "{'皖': 191796,\n",
              " '苏': 3311,\n",
              " '沪': 663,\n",
              " '粤': 373,\n",
              " '闽': 208,\n",
              " '豫': 431,\n",
              " '川': 121,\n",
              " '浙': 1349,\n",
              " '京': 307,\n",
              " '鲁': 248,\n",
              " '鄂': 278,\n",
              " '冀': 175,\n",
              " '青': 11,\n",
              " '赣': 151,\n",
              " '晋': 67,\n",
              " '渝': 74,\n",
              " '辽': 59,\n",
              " '云': 17,\n",
              " '陕': 55,\n",
              " '湘': 96,\n",
              " '蒙': 19,\n",
              " '黑': 18,\n",
              " '吉': 13,\n",
              " '津': 60,\n",
              " '甘': 18,\n",
              " '琼': 9,\n",
              " '桂': 15,\n",
              " '宁': 5,\n",
              " '贵': 16,\n",
              " '新': 16,\n",
              " '藏': 1}"
            ]
          },
          "execution_count": 34,
          "metadata": {},
          "output_type": "execute_result"
        }
      ],
      "source": [
        "#то же самое в более удобном виде\n",
        "hieroglifs"
      ]
    },
    {
      "attachments": {},
      "cell_type": "markdown",
      "metadata": {},
      "source": [
        "Соответсвенно, чтобы уменьшить ошибку определения иероглифа нужно добавить в датасет изображения с другими иероглифами."
      ]
    }
  ],
  "metadata": {
    "accelerator": "GPU",
    "colab": {
      "provenance": []
    },
    "gpuClass": "standard",
    "kernelspec": {
      "display_name": "Python 3",
      "name": "python3"
    },
    "language_info": {
      "name": "python"
    }
  },
  "nbformat": 4,
  "nbformat_minor": 0
}
